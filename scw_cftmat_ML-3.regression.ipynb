{
 "cells": [
  {
   "cell_type": "code",
   "execution_count": 1,
   "metadata": {
    "scrolled": true
   },
   "outputs": [],
   "source": [
    "from scipy import stats\n",
    "import numpy as np\n",
    "import scipy.integrate as integrate\n",
    "import matplotlib.pyplot as plt\n",
    "from matplotlib import colors\n",
    "from IPython.display import Image"
   ]
  },
  {
   "cell_type": "markdown",
   "metadata": {},
   "source": [
    "# STATISTICAL INFERENCE 1: Regression"
   ]
  },
  {
   "cell_type": "markdown",
   "metadata": {},
   "source": [
    "the process of deducing properties of an underlying distribution"
   ]
  },
  {
   "cell_type": "markdown",
   "metadata": {},
   "source": [
    "# Least squares "
   ]
  },
  {
   "cell_type": "markdown",
   "metadata": {},
   "source": [
    "**TODO**: generate data from function y(x)=(x-5)^2 + 10, adding Gaussian noise "
   ]
  },
  {
   "cell_type": "code",
   "execution_count": 21,
   "metadata": {},
   "outputs": [],
   "source": [
    "stats.norm.rvs?"
   ]
  },
  {
   "cell_type": "code",
   "execution_count": 22,
   "metadata": {},
   "outputs": [],
   "source": [
    "# Define the function\n",
    "true_func = lambda x: (x - 5.0)**2 + 10.0\n",
    "# Size of the sample\n",
    "N = 20\n",
    "# Set seed and generate N uniform values\n",
    "np.random.seed(45)\n",
    "x = np.random.uniform(0, 20, size=N)\n",
    "# Compute true_func(x) and add normal(mu=0, sigma=20) noise\n",
    "data = true_func(x)\n",
    "data += stats.norm.rvs(0, 20, size=20)"
   ]
  },
  {
   "cell_type": "code",
   "execution_count": 23,
   "metadata": {},
   "outputs": [
    {
     "data": {
      "image/png": "[encoded data removed]",
      "text/plain": [
       "<Figure size 432x288 with 1 Axes>"
      ]
     },
     "metadata": {
      "needs_background": "light"
     },
     "output_type": "display_data"
    }
   ],
   "source": [
    "plt.scatter(x,data)\n",
    "plt.show()"
   ]
  },
  {
   "cell_type": "markdown",
   "metadata": {},
   "source": [
    "If underlying PDF of data $y$ is i.i.d. as Gaussian, likelihood is: \n",
    "$$\n",
    "{\\cal L}(\\bf w) = \\prod_{i=1}^N  {\\cal N}(y_i|\\bar{y}_i,\\sigma_y)\n",
    "$$\n",
    "\n",
    "where \n",
    "$$  \\bar y_i = \\bar y_i({\\bf w}) $$\n",
    "\n",
    "and ${\\bf w}$ are the parameters of the machine-learning model."
   ]
  },
  {
   "cell_type": "markdown",
   "metadata": {},
   "source": [
    "For a given model, choose the parameters that **maximise** the likelihood (MLE). For Gaussian, equivalent to minimise:\n",
    "$$\n",
    "{\\rm Cost} = \\frac{1}{N}\\sum_{i=1}^N \\big( y_i - \\bar{y}_i({\\bf w})\\big)^2~~~~~ (\\rm MSE)\n",
    "$$"
   ]
  },
  {
   "cell_type": "markdown",
   "metadata": {},
   "source": [
    "**TODO**: define Cost function"
   ]
  },
  {
   "cell_type": "code",
   "execution_count": 24,
   "metadata": {},
   "outputs": [],
   "source": [
    "def Cost(y_obs, y_pred):\n",
    "    return np.mean((y_obs - y_pred)**2)"
   ]
  },
  {
   "cell_type": "markdown",
   "metadata": {},
   "source": [
    "**Machine Learning procedure:**  choose the model for $\\bar y(x)$ that best fit **new data**"
   ]
  },
  {
   "cell_type": "markdown",
   "metadata": {},
   "source": [
    "Assume a basis of functions like \n",
    "$$ f(x) = \\beta_0 + \\sum_{p=1}^P \\beta_p x^p = \\beta^T\\cdot \\vec\\phi(x),  $$\n",
    "where $\\vec\\phi(x) = (1, x, x^2, ..., x^P)$."
   ]
  },
  {
   "cell_type": "markdown",
   "metadata": {},
   "source": [
    "then the result of minimisation can be computed analytically, and is:\n",
    "$$\n",
    "\\beta_{\\rm ML} = (\\Phi^T\\Phi)^{-1}\\Phi^T\\cdot {\\bf y}~~~~~~~~~~(1)\n",
    "$$\n",
    ", where $\\Phi$ is a matrix of shape $N\\times P \\Rightarrow$\n",
    "```\n",
    "1 | x_1 | x_1**2 | ... | x_1**P\n",
    "1 | x_2 | x_2**2 | ... | x_2**P\n",
    "...\n",
    "1 | x_N | x_N**2 | ... | x_N**P\n",
    "```"
   ]
  },
  {
   "cell_type": "code",
   "execution_count": 26,
   "metadata": {},
   "outputs": [],
   "source": [
    "def Phi(x,P):\n",
    "    # x: input vector\n",
    "    # P: order of polynomial\n",
    "    xt=x.reshape((-1,1))\n",
    "    Phi=np.ones(len(x)).reshape((-1,1))\n",
    "    for p in range(1,P+1):\n",
    "        Phi=np.hstack((Phi,xt**p))\n",
    "    return Phi\n"
   ]
  },
  {
   "cell_type": "markdown",
   "metadata": {},
   "source": [
    "**TODO**: define Beta function"
   ]
  },
  {
   "cell_type": "code",
   "execution_count": 27,
   "metadata": {},
   "outputs": [],
   "source": [
    "def beta_MSE(Phi, y):\n",
    "    return np.linalg.inv(Phi.T.dot(Phi)).dot(Phi.T.dot(y))"
   ]
  },
  {
   "cell_type": "code",
   "execution_count": 30,
   "metadata": {},
   "outputs": [
    {
     "data": {
      "text/plain": [
       "array([ 1.28478179e+01, -6.61859379e+00,  8.68369613e-01,  1.17140767e-03])"
      ]
     },
     "execution_count": 30,
     "metadata": {},
     "output_type": "execute_result"
    }
   ],
   "source": [
    "beta_MSE(Phi(x, 3), data)"
   ]
  },
  {
   "cell_type": "markdown",
   "metadata": {},
   "source": [
    "Idea is to have optimal prediction in data never seen before:\n",
    "Dataset _randomly_ partitioned into **training** and **test** sets "
   ]
  },
  {
   "cell_type": "markdown",
   "metadata": {},
   "source": [
    "**TODO**: reshuffle and partition data in training and test"
   ]
  },
  {
   "cell_type": "code",
   "execution_count": 32,
   "metadata": {},
   "outputs": [
    {
     "data": {
      "text/plain": [
       "array([12, 16,  3,  1, 10, 19, 18,  8, 15,  6, 11,  5, 13,  4,  0,  9,  2,\n",
       "        7, 17, 14])"
      ]
     },
     "execution_count": 32,
     "metadata": {},
     "output_type": "execute_result"
    }
   ],
   "source": [
    "np.random.seed(124)\n",
    "perm = np.random.permutation(N)\n",
    "perm"
   ]
  },
  {
   "cell_type": "code",
   "execution_count": 37,
   "metadata": {},
   "outputs": [
    {
     "data": {
      "text/plain": [
       "0"
      ]
     },
     "execution_count": 37,
     "metadata": {},
     "output_type": "execute_result"
    }
   ],
   "source": [
    "test_size"
   ]
  },
  {
   "cell_type": "code",
   "execution_count": 46,
   "metadata": {},
   "outputs": [
    {
     "name": "stdout",
     "output_type": "stream",
     "text": [
      "Train data: [146.99175311  36.19822581  20.72714866 -13.63965214   4.38855374\n",
      "  13.68344376  87.49535824   1.98110311  -3.66347409  12.98847447\n",
      " 208.28319063 100.37578928   7.96543603  19.6577036  103.81433395\n",
      "  54.76839033]\n",
      "Test data:[274.42923717 202.21179829  -9.00590604  46.39570107]\n"
     ]
    }
   ],
   "source": [
    "test_size = int(0.2 * N)\n",
    "train_size = 1 - test_size\n",
    "x_test, x_train = x[perm[0:test_size]], x[perm[test_size:]]\n",
    "y_test, y_train = data[perm[0:test_size]], data[perm[test_size:]]\n",
    "print('Train data: {0}\\nTest data:{1}'.format(y_train, y_test))"
   ]
  },
  {
   "cell_type": "code",
   "execution_count": 44,
   "metadata": {},
   "outputs": [
    {
     "data": {
      "image/png": "[encoded data removed]",
      "text/plain": [
       "<Figure size 432x288 with 1 Axes>"
      ]
     },
     "metadata": {
      "needs_background": "light"
     },
     "output_type": "display_data"
    }
   ],
   "source": [
    "# Lets check what we are doing:\n",
    "plt.scatter(x_train, y_train, label='Train data')\n",
    "plt.scatter(x_test, y_test, label='Test data')\n",
    "plt.legend()\n",
    "plt.show()"
   ]
  },
  {
   "cell_type": "markdown",
   "metadata": {},
   "source": [
    "Let's build the model"
   ]
  },
  {
   "cell_type": "code",
   "execution_count": 45,
   "metadata": {},
   "outputs": [],
   "source": [
    "def y_pred(Phi,beta):\n",
    "    # beta: vector of coefficients\n",
    "    # Phi:  Nx(P+1) matrix of features (inputs)\n",
    "    return Phi.dot(beta)"
   ]
  },
  {
   "cell_type": "code",
   "execution_count": 51,
   "metadata": {},
   "outputs": [
    {
     "data": {
      "text/plain": [
       "array([154.30452477,   2.51671031,  22.54103442,   6.25872272,\n",
       "         2.07412158,  16.73333978,  78.08503086,  29.2076879 ,\n",
       "        28.67331786,  23.31305567, 209.77818501,  70.79881944,\n",
       "         2.00197456,   2.05635692,  85.7167365 ,  67.95616016])"
      ]
     },
     "execution_count": 51,
     "metadata": {},
     "output_type": "execute_result"
    }
   ],
   "source": [
    "y_pred(Phi(x_train, 3), beta_MSE(Phi(x_train, 3), y_train))"
   ]
  },
  {
   "cell_type": "markdown",
   "metadata": {},
   "source": [
    "For a given model complexity $P$, the training fit is already given by expr.(1) \n",
    "evaluated in the training set  (in more complex models, numerical training is needed). The solution for $P=3$ is:"
   ]
  },
  {
   "cell_type": "markdown",
   "metadata": {},
   "source": [
    "**TODO**: plot results for order 6 polynomial "
   ]
  },
  {
   "cell_type": "code",
   "execution_count": 56,
   "metadata": {},
   "outputs": [
    {
     "name": "stdout",
     "output_type": "stream",
     "text": [
      "beta_hat =  [ 8.86896757e+01 -1.25646175e+02  5.85868776e+01 -1.16455552e+01\n",
      "  1.10529463e+00 -4.90170979e-02  8.18638232e-04]\n"
     ]
    },
    {
     "data": {
      "image/png": "[encoded data removed]",
      "text/plain": [
       "<Figure size 432x288 with 1 Axes>"
      ]
     },
     "metadata": {
      "needs_background": "light"
     },
     "output_type": "display_data"
    }
   ],
   "source": [
    "p = 6\n",
    "beta_hat = beta_MSE(Phi(x_train, p), y_train)\n",
    "print('beta_hat = ', beta_hat)\n",
    "plt.scatter(x_train, y_train, label='Train')\n",
    "x_arr = np.linspace(min(x_train), max(x_train), 100)\n",
    "plt.plot(x_arr, y_pred(Phi(x_arr, p), beta_hat))\n",
    "plt.legend()\n",
    "plt.show()"
   ]
  },
  {
   "cell_type": "markdown",
   "metadata": {},
   "source": [
    "Now with order 2:"
   ]
  },
  {
   "cell_type": "code",
   "execution_count": 57,
   "metadata": {},
   "outputs": [
    {
     "name": "stdout",
     "output_type": "stream",
     "text": [
      "beta_hat =  [15.07795324 -6.24800959  0.82974514]\n"
     ]
    },
    {
     "data": {
      "image/png": "[encoded data removed]",
      "text/plain": [
       "<Figure size 432x288 with 1 Axes>"
      ]
     },
     "metadata": {
      "needs_background": "light"
     },
     "output_type": "display_data"
    }
   ],
   "source": [
    "p = 2\n",
    "beta_hat = beta_MSE(Phi(x_train, p), y_train)\n",
    "print('beta_hat = ', beta_hat)\n",
    "plt.scatter(x_train, y_train, label='Train')\n",
    "x_arr = np.linspace(min(x_train), max(x_train), 100)\n",
    "plt.plot(x_arr, y_pred(Phi(x_arr, p), beta_hat))\n",
    "plt.legend()\n",
    "plt.show()"
   ]
  },
  {
   "cell_type": "markdown",
   "metadata": {},
   "source": [
    "**TODO**:Let's evaluate the Cost in the training and in the test sets"
   ]
  },
  {
   "cell_type": "code",
   "execution_count": 70,
   "metadata": {},
   "outputs": [],
   "source": [
    "error_train = []\n",
    "error_test = []\n",
    "# Iterate over the degree of the polynomial\n",
    "for p in range(1,5):\n",
    "    beta_hat = beta_MSE(Phi(x_train, p), y_train)\n",
    "    y_pred_train = y_pred(Phi(x_train, p), beta_hat)\n",
    "    y_pred_test = y_pred(Phi(x_test, p), beta_hat)    \n",
    "    error_train.append(Cost(y_train, y_pred_train))\n",
    "    error_test.append(Cost(y_test, y_pred_test))"
   ]
  },
  {
   "cell_type": "markdown",
   "metadata": {},
   "source": [
    "Lets plot the results:"
   ]
  },
  {
   "cell_type": "code",
   "execution_count": 71,
   "metadata": {},
   "outputs": [
    {
     "data": {
      "image/png": "[encoded data removed]",
      "text/plain": [
       "<Figure size 864x360 with 1 Axes>"
      ]
     },
     "metadata": {
      "needs_background": "light"
     },
     "output_type": "display_data"
    }
   ],
   "source": [
    "p_arr = np.linspace(1, 4, 4)\n",
    "fig, ax = plt.subplots()\n",
    "fig.set_size_inches(12, 5)\n",
    "ax.plot(p_arr, error_train, 'o-', color='blue', label='Train')\n",
    "ax.plot(p_arr, error_test, 'o-', color='orange', label='Test')\n",
    "ax.set_xlabel('Degree of the polynomial p')\n",
    "ax.set_ylabel('Cost')\n",
    "plt.legend()\n",
    "plt.show()"
   ]
  }
 ],
 "metadata": {
  "kernelspec": {
   "display_name": "Python 3",
   "language": "python",
   "name": "python3"
  },
  "language_info": {
   "codemirror_mode": {
    "name": "ipython",
    "version": 3
   },
   "file_extension": ".py",
   "mimetype": "text/x-python",
   "name": "python",
   "nbconvert_exporter": "python",
   "pygments_lexer": "ipython3",
   "version": "3.7.1"
  },
  "latex_envs": {
   "LaTeX_envs_menu_present": true,
   "autoclose": false,
   "autocomplete": true,
   "bibliofile": "biblio.bib",
   "cite_by": "apalike",
   "current_citInitial": 1,
   "eqLabelWithNumbers": true,
   "eqNumInitial": 1,
   "hotkeys": {
    "equation": "Ctrl-E",
    "itemize": "Ctrl-I"
   },
   "labels_anchors": false,
   "latex_user_defs": false,
   "report_style_numbering": false,
   "user_envs_cfg": false
  },
  "toc": {
   "base_numbering": 1,
   "nav_menu": {},
   "number_sections": true,
   "sideBar": true,
   "skip_h1_title": false,
   "title_cell": "Table of Contents",
   "title_sidebar": "Contents",
   "toc_cell": false,
   "toc_position": {},
   "toc_section_display": true,
   "toc_window_display": false
  }
 },
 "nbformat": 4,
 "nbformat_minor": 2
}
