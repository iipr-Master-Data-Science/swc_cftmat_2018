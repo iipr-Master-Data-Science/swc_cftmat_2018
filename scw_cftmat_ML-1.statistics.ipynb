{
 "cells": [
  {
   "cell_type": "code",
   "execution_count": 1,
   "metadata": {
    "scrolled": true
   },
   "outputs": [],
   "source": [
    "from scipy import stats\n",
    "import numpy as np\n",
    "import scipy.integrate as integrate\n",
    "import matplotlib.pyplot as plt\n",
    "from matplotlib import colors\n",
    "from IPython.display import Image"
   ]
  },
  {
   "cell_type": "markdown",
   "metadata": {},
   "source": [
    "# PROBABILITY DISTRIBUTIONS  & RANDOM NUMBERS"
   ]
  },
  {
   "cell_type": "markdown",
   "metadata": {},
   "source": [
    "## Sample mean and variance of given data "
   ]
  },
  {
   "cell_type": "code",
   "execution_count": 2,
   "metadata": {
    "scrolled": true
   },
   "outputs": [],
   "source": [
    "data= [1.7954749844952811, -0.82344065038249903, -0.2192039195121927, 0.43421078851339012, -1.3937260553671886, 0.85161210073274862, -2.6686243950360145, -0.35207951288551514, -0.10940076133160911, -0.59905215298171999, -1.9077435365842492, 0.020406556867819687, -1.2667957796625413, -0.89430991460718678, 1.8038278417226581, 0.22364484431918985, 0.24387840765089427, 0.16074727588740503, -0.60364894979460193, 0.88708395065341128, 0.59160454172753119, 0.69199479160946198, 1.0520703481037412, 0.50795459134774568, 1.5768791411906093, 0.11136128559501068, 0.96834991062732267, -1.0799223246865801, -0.77406582026005244, -0.30040067363629003, 1.2377561077782491, -0.99824929203421076, -0.02168098535073721, -1.0387804686170952, -0.58153332350166953, -0.88398216313031486, 0.98199801462526692, -0.65395591277809428, 1.188250840837731, 0.058226502477458669, 0.96105869074830363, 0.10567619147859778, 0.51881996330412861, -1.707076404292295, 0.18157283917332023, -0.33912688245307337, 1.2734418824757954, -0.51695460401269733, -0.20360790850843452, 0.31856140595590027, 0.75735145577200225, 3.0430689558832995, 0.47146356276179396, 1.1383428598945147, 1.7429250016207152, -1.2014904270011244, 0.56068261948182707, 1.4736754494886215, 0.30054000076482723, 0.46517586287895907, -0.18897799002118684, -0.21664647047151026, 0.65038476271826817, -1.2619505543431326, 0.06505573549326088, 0.69393228967205012, -1.9606057368685155, -0.56673063268424828, -0.068754682043091431, -0.30525992662681395, -2.1195784329855063, -0.14774360361720879, 0.83612496345549592, -0.59503981572338716, -0.99505845969486162, 0.48399819526397336, 0.50755656012655292, -0.3764647961265693, -0.036037664799445097, -1.0056478038593424, -0.32747779322900994, 0.25654288021891763, -0.76614113585673627, -0.63801666019907732, 1.9661880283890789, -0.66627731259491163, -0.90671980413027353, -2.9151271617469758, 1.1026698881419355, 0.29541153460103858, 2.2523317145660862, -0.93489202353580836, 0.22350292567728611, 2.433675833153746, -1.8417520331375354, 0.90279416703884552, 1.0431742286998438, 0.68114918105219224, 0.76849076134294891, 0.4715201798721444]"
   ]
  },
  {
   "cell_type": "code",
   "execution_count": 3,
   "metadata": {
    "scrolled": true
   },
   "outputs": [
    {
     "name": "stdout",
     "output_type": "stream",
     "text": [
      "data length = 100\n"
     ]
    }
   ],
   "source": [
    "print('data length =',len(data))"
   ]
  },
  {
   "cell_type": "code",
   "execution_count": 4,
   "metadata": {
    "scrolled": true
   },
   "outputs": [
    {
     "data": {
      "image/png": "[encoded data removed]",
      "text/plain": [
       "<Figure size 432x288 with 1 Axes>"
      ]
     },
     "metadata": {
      "needs_background": "light"
     },
     "output_type": "display_data"
    }
   ],
   "source": [
    "plt.hist(data,bins=7)\n",
    "plt.show()"
   ]
  },
  {
   "cell_type": "code",
   "execution_count": 5,
   "metadata": {
    "scrolled": true
   },
   "outputs": [
    {
     "name": "stdout",
     "output_type": "stream",
     "text": [
      "sample mean = 0.04354440085226062\n",
      "sample standard deviation = 1.0696066681426202\n"
     ]
    }
   ],
   "source": [
    "print('sample mean =', np.mean(data))\n",
    "print('sample standard deviation =', np.std(data))"
   ]
  },
  {
   "cell_type": "markdown",
   "metadata": {},
   "source": [
    "## Some properties of popular distributions"
   ]
  },
  {
   "cell_type": "markdown",
   "metadata": {},
   "source": [
    "### a) Gaussian"
   ]
  },
  {
   "cell_type": "markdown",
   "metadata": {},
   "source": [
    "$$\n",
    "x\\sim {\\cal N}(\\mu,\\sigma) = \\frac{1}{\\sqrt{2\\pi \\sigma^2}} \\exp\\left\\{-\\frac{(x-\\mu)^2}{2\\sigma^2}\\right\\} \n",
    "$$"
   ]
  },
  {
   "cell_type": "code",
   "execution_count": 7,
   "metadata": {
    "scrolled": true
   },
   "outputs": [],
   "source": [
    "f = lambda x:stats.norm.pdf(x,0,1)"
   ]
  },
  {
   "cell_type": "markdown",
   "metadata": {},
   "source": [
    "**TODO**: verify normalisation "
   ]
  },
  {
   "cell_type": "code",
   "execution_count": 18,
   "metadata": {},
   "outputs": [
    {
     "data": {
      "text/plain": [
       "0.9999999999999998"
      ]
     },
     "execution_count": 18,
     "metadata": {},
     "output_type": "execute_result"
    }
   ],
   "source": [
    "mean, error = integrate.quad(f, -np.inf, np.inf)\n",
    "mean"
   ]
  },
  {
   "cell_type": "markdown",
   "metadata": {},
   "source": [
    "**TODO**: get the expectation value          "
   ]
  },
  {
   "cell_type": "code",
   "execution_count": 17,
   "metadata": {},
   "outputs": [
    {
     "data": {
      "text/plain": [
       "(0.0, 0.0)"
      ]
     },
     "execution_count": 17,
     "metadata": {},
     "output_type": "execute_result"
    }
   ],
   "source": [
    "integrand = lambda x: x * f(x)\n",
    "integrate.quad(integrand, -np.inf, np.inf)"
   ]
  },
  {
   "cell_type": "code",
   "execution_count": null,
   "metadata": {},
   "outputs": [],
   "source": []
  },
  {
   "cell_type": "markdown",
   "metadata": {},
   "source": [
    "**TODO**: get the variance"
   ]
  },
  {
   "cell_type": "code",
   "execution_count": 20,
   "metadata": {},
   "outputs": [
    {
     "data": {
      "text/plain": [
       "(2.0000000000000004, 1.6114791682735388e-08)"
      ]
     },
     "execution_count": 20,
     "metadata": {},
     "output_type": "execute_result"
    }
   ],
   "source": [
    "integrand = lambda x: (x - mean)**2 * f(x)\n",
    "integrate.quad(integrand, -np.inf, np.inf)"
   ]
  },
  {
   "cell_type": "markdown",
   "metadata": {},
   "source": [
    "### b) Bernoulli\n",
    "$$\n",
    "k\\sim {\\rm Bern}(p) = p^k (1-p)^{1-k}\n",
    "$$"
   ]
  },
  {
   "cell_type": "code",
   "execution_count": 21,
   "metadata": {
    "scrolled": true
   },
   "outputs": [],
   "source": [
    "P = lambda k: stats.bernoulli.pmf(k,0.3)"
   ]
  },
  {
   "cell_type": "code",
   "execution_count": 22,
   "metadata": {},
   "outputs": [
    {
     "data": {
      "text/plain": [
       "1.0"
      ]
     },
     "execution_count": 22,
     "metadata": {},
     "output_type": "execute_result"
    }
   ],
   "source": [
    "P(0) + P(1)"
   ]
  },
  {
   "cell_type": "markdown",
   "metadata": {},
   "source": [
    "### c) generalised Bernoulli\n",
    "$$\n",
    "m\\mapsto {\\bf t} \\sim {\\rm gBern}({\\bf p}) = \\prod_{k=1}^K p_k^{t_k} \n",
    "$$\n",
    "where the common procedure is to map the multiclass variable $m$ in a vector variable ${\\bf t}$\n",
    "according to the \"1-to-K\" coding scheme"
   ]
  },
  {
   "cell_type": "code",
   "execution_count": 23,
   "metadata": {
    "scrolled": true
   },
   "outputs": [],
   "source": [
    "K=3  # number of classes\n",
    "p_1 = 0.2\n",
    "p_2 = 0.5\n",
    "p_3 = 1 - p_1 - p_2\n",
    "p = np.array([p_1,p_2,p_3])\n",
    "gBern = lambda t,p: np.prod(p**t)    "
   ]
  },
  {
   "cell_type": "code",
   "execution_count": 24,
   "metadata": {
    "scrolled": true
   },
   "outputs": [
    {
     "data": {
      "text/plain": [
       "0.30000000000000004"
      ]
     },
     "execution_count": 24,
     "metadata": {},
     "output_type": "execute_result"
    }
   ],
   "source": [
    "# 1-to-K coding scheme\n",
    "gBern([0,0,1],p)"
   ]
  },
  {
   "cell_type": "code",
   "execution_count": 93,
   "metadata": {
    "scrolled": true
   },
   "outputs": [
    {
     "name": "stdout",
     "output_type": "stream",
     "text": [
      "[0.20000000000000001, 0.5, 0.30000000000000004]\n"
     ]
    }
   ],
   "source": [
    "# expected value, E[t|p]\n",
    "terms=[]\n",
    "for i in range(len(p)):\n",
    "    t1=max(0,1-i)\n",
    "    t2=min(i,2-i)\n",
    "    t3=1-t1-t2\n",
    "    t=np.array([t1,t2,t3])\n",
    "    terms.append(gBern(t,p)*t[i])\n",
    "print(terms)"
   ]
  },
  {
   "cell_type": "markdown",
   "metadata": {},
   "source": [
    "## Random numbers following a given distribution"
   ]
  },
  {
   "cell_type": "markdown",
   "metadata": {
    "collapsed": true
   },
   "source": [
    "$10x3$ matrix of random numbers. Uniform distribution $[0,1)$:"
   ]
  },
  {
   "cell_type": "code",
   "execution_count": 26,
   "metadata": {},
   "outputs": [
    {
     "data": {
      "text/plain": [
       "array([[0.27337013, 0.17182785, 0.71160339],\n",
       "       [0.05906591, 0.39682527, 0.29783571],\n",
       "       [0.88045287, 0.02827872, 0.01983189],\n",
       "       [0.52214902, 0.70918563, 0.55995443],\n",
       "       [0.30100306, 0.22217813, 0.61621488],\n",
       "       [0.28897802, 0.69139894, 0.47545487],\n",
       "       [0.66045308, 0.14738632, 0.02016952],\n",
       "       [0.64459327, 0.51387668, 0.71398149],\n",
       "       [0.32569668, 0.43749843, 0.01025456],\n",
       "       [0.55653814, 0.50789279, 0.6568868 ]])"
      ]
     },
     "execution_count": 26,
     "metadata": {},
     "output_type": "execute_result"
    }
   ],
   "source": [
    "np.random.rand(10, 3)"
   ]
  },
  {
   "cell_type": "markdown",
   "metadata": {
    "collapsed": true
   },
   "source": [
    "$100$ random numbers following a normal distrib. $N(mu=0,sigma=1)$:"
   ]
  },
  {
   "cell_type": "code",
   "execution_count": 41,
   "metadata": {},
   "outputs": [
    {
     "data": {
      "text/plain": [
       "array([ 1.65143654, -2.42667924, -0.42891263,  1.26593626, -0.8667404 ,\n",
       "       -0.67888615, -0.09470897,  1.49138963, -0.638902  , -0.44398196,\n",
       "       -0.43435128,  2.20593008,  2.18678609,  1.0040539 ,  0.3861864 ,\n",
       "        0.73736858,  1.49073203, -0.93583387,  1.17582904, -1.25388067,\n",
       "       -0.6377515 ,  0.9071052 , -1.4286807 , -0.14006872, -0.8617549 ,\n",
       "       -0.25561937, -2.79858911, -1.7715331 , -0.69987723,  0.92746243,\n",
       "       -0.17363568,  0.00284592,  0.68822271, -0.87953634,  0.28362732,\n",
       "       -0.80536652, -1.72766949, -0.39089979,  0.57380586,  0.33858905,\n",
       "       -0.01183049,  2.39236527,  0.41291216,  0.97873601,  2.23814334,\n",
       "       -1.29408532, -1.03878821,  1.74371223, -0.79806274,  0.02968323,\n",
       "        1.06931597,  0.89070639,  1.75488618,  1.49564414,  1.06939267,\n",
       "       -0.77270871,  0.79486267,  0.31427199, -1.32626546,  1.41729905,\n",
       "        0.80723653,  0.04549008, -0.23309206, -1.19830114,  0.19952407,\n",
       "        0.46843912, -0.83115498,  1.16220405, -1.09720305, -2.12310035,\n",
       "        1.03972709, -0.40336604, -0.12602959, -0.83751672, -1.60596276,\n",
       "        1.25523737, -0.68886898,  1.66095249,  0.80730819, -0.31475815,\n",
       "       -1.0859024 , -0.73246199, -1.21252313,  2.08711336,  0.16444123,\n",
       "        1.15020554, -1.26735205,  0.18103513,  1.17786194, -0.33501076,\n",
       "        1.03111446, -1.08456791, -1.36347154,  0.37940061, -0.37917643,\n",
       "        0.64205469, -1.97788793,  0.71226464,  2.59830393, -0.02462598])"
      ]
     },
     "execution_count": 41,
     "metadata": {},
     "output_type": "execute_result"
    }
   ],
   "source": [
    "Nnumbers = stats.norm.rvs(0, 1, size=100)\n",
    "Nnumbers"
   ]
  },
  {
   "cell_type": "markdown",
   "metadata": {},
   "source": [
    "Sub-random numbers:"
   ]
  },
  {
   "cell_type": "code",
   "execution_count": 34,
   "metadata": {},
   "outputs": [
    {
     "data": {
      "text/plain": [
       "array([ 8.9143694 , 10.99734545, 10.2829785 ,  8.49370529,  9.42139975])"
      ]
     },
     "execution_count": 34,
     "metadata": {},
     "output_type": "execute_result"
    }
   ],
   "source": [
    "np.random.seed(123)\n",
    "stats.norm.rvs(10, 1, size=5)"
   ]
  },
  {
   "cell_type": "code",
   "execution_count": 47,
   "metadata": {},
   "outputs": [
    {
     "data": {
      "image/png": "[encoded data removed]",
      "text/plain": [
       "<Figure size 432x288 with 1 Axes>"
      ]
     },
     "metadata": {
      "needs_background": "light"
     },
     "output_type": "display_data"
    }
   ],
   "source": [
    "plt.hist(Nnumbers, bins=10, color='orange', label='Normal distrib', alpha=0.3)\n",
    "plt.hist(data, bins=10, color='blue', alpha=0.3, label='Initial values')\n",
    "plt.legend()\n",
    "plt.show()"
   ]
  }
 ],
 "metadata": {
  "kernelspec": {
   "display_name": "Python 3",
   "language": "python",
   "name": "python3"
  },
  "language_info": {
   "codemirror_mode": {
    "name": "ipython",
    "version": 3
   },
   "file_extension": ".py",
   "mimetype": "text/x-python",
   "name": "python",
   "nbconvert_exporter": "python",
   "pygments_lexer": "ipython3",
   "version": "3.7.1"
  },
  "latex_envs": {
   "LaTeX_envs_menu_present": true,
   "autoclose": false,
   "autocomplete": true,
   "bibliofile": "biblio.bib",
   "cite_by": "apalike",
   "current_citInitial": 1,
   "eqLabelWithNumbers": true,
   "eqNumInitial": 1,
   "hotkeys": {
    "equation": "Ctrl-E",
    "itemize": "Ctrl-I"
   },
   "labels_anchors": false,
   "latex_user_defs": false,
   "report_style_numbering": false,
   "user_envs_cfg": false
  },
  "toc": {
   "base_numbering": 1,
   "nav_menu": {},
   "number_sections": true,
   "sideBar": true,
   "skip_h1_title": false,
   "title_cell": "Table of Contents",
   "title_sidebar": "Contents",
   "toc_cell": false,
   "toc_position": {},
   "toc_section_display": true,
   "toc_window_display": false
  }
 },
 "nbformat": 4,
 "nbformat_minor": 2
}
